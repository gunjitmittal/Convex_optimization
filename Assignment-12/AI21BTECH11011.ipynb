{
 "cells": [
  {
   "attachments": {},
   "cell_type": "markdown",
   "metadata": {},
   "source": [
    "# Assignment-12 Gunjit Mittal\n",
    "# AI21BTECH11011"
   ]
  },
  {
   "cell_type": "code",
   "execution_count": 93,
   "metadata": {},
   "outputs": [],
   "source": [
    "import numpy as np\n",
    "from numpy.linalg import norm, solve\n",
    "import matplotlib.pyplot as plt"
   ]
  },
  {
   "attachments": {},
   "cell_type": "markdown",
   "metadata": {},
   "source": [
    "## Functions"
   ]
  },
  {
   "cell_type": "code",
   "execution_count": 94,
   "metadata": {},
   "outputs": [],
   "source": [
    "def f(x):\n",
    "    return 3*x[0]**2 + 4*x[1]**2 + x[0]*x[1] + 4*x[2]**2 + x[1]*x[2]\n",
    "\n",
    "def grad_f(x):\n",
    "    return np.array([6*x[0]+x[1],8*x[1]+x[0]+x[2],8*x[2]+x[1]])\n",
    "\n",
    "def h(x):\n",
    "    return np.array([x[0]+x[1]+1,x[1]+x[2]-1])\n",
    "\n",
    "def grad_h(x):\n",
    "    return np.array([[1,1,0],[0,1,1]])\n",
    "\n",
    "def lagrangian(x, l):\n",
    "    return f(x) + l@h(x)\n",
    "\n",
    "def grad_lagrangian(x, l):\n",
    "    arr = np.array([grad_f(x) + grad_h(x).T@l, h(x)], dtype=object)\n",
    "    return np.concatenate((arr[0], arr[1]))\n",
    "\n",
    "def jacobian_lagrangian(x, l):\n",
    "    return np.array([[6,1,0,1,0],[1,8,1,1,1],[0,1,8,0,1],[1,1,0,0,0],[0,1,1,0,0]]).T"
   ]
  },
  {
   "attachments": {},
   "cell_type": "markdown",
   "metadata": {},
   "source": [
    "## Initializations"
   ]
  },
  {
   "cell_type": "code",
   "execution_count": 95,
   "metadata": {},
   "outputs": [],
   "source": [
    "x = [1, -1, 8] # initial guess\n",
    "l = [2,5] # initial guess\n",
    "epsilon = 1e-5 # tolerance\n",
    "x_exp = np.array([x[0], x[1], x[2], l[0], l[1]])\n",
    "x_list = [x_exp]"
   ]
  },
  {
   "attachments": {},
   "cell_type": "markdown",
   "metadata": {},
   "source": [
    "## Newton's method"
   ]
  },
  {
   "cell_type": "code",
   "execution_count": 96,
   "metadata": {},
   "outputs": [],
   "source": [
    "while True:\n",
    "    prev_x = x_exp\n",
    "    dx = solve(jacobian_lagrangian(x_exp[:3],x_exp[3:]).T@jacobian_lagrangian(x_exp[:3],x_exp[3:]), -jacobian_lagrangian(x_exp[:3],x_exp[3:]).T@grad_lagrangian(x_exp[:3],x_exp[3:])) # Newton's method\n",
    "    x_exp = x_exp + dx\n",
    "    x_list.append(x_exp)\n",
    "    if norm(x_exp - prev_x) < epsilon: # check for convergence\n",
    "        break\n",
    "x_list = np.array(x_list, dtype=object)"
   ]
  },
  {
   "cell_type": "code",
   "execution_count": 97,
   "metadata": {},
   "outputs": [
    {
     "name": "stdout",
     "output_type": "stream",
     "text": [
      "Minima is: [-1.1111111111111112 0.1111111111111111 0.8888888888888888]\n",
      "Minimum value is : 6.888888888888889\n"
     ]
    }
   ],
   "source": [
    "print(f\"Minima is: {x_list[-1][:3]}\\nMinimum value is : {f(x_list[-1][:3])}\")"
   ]
  }
 ],
 "metadata": {
  "kernelspec": {
   "display_name": "Python 3",
   "language": "python",
   "name": "python3"
  },
  "language_info": {
   "codemirror_mode": {
    "name": "ipython",
    "version": 3
   },
   "file_extension": ".py",
   "mimetype": "text/x-python",
   "name": "python",
   "nbconvert_exporter": "python",
   "pygments_lexer": "ipython3",
   "version": "3.10.6"
  },
  "orig_nbformat": 4
 },
 "nbformat": 4,
 "nbformat_minor": 2
}
