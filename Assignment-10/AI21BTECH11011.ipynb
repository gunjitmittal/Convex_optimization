{
 "cells": [
  {
   "attachments": {},
   "cell_type": "markdown",
   "metadata": {},
   "source": [
    "# Assignment-10 Gunjit Mittal\n",
    "# AI21BTECH11011"
   ]
  },
  {
   "cell_type": "code",
   "execution_count": 2,
   "metadata": {},
   "outputs": [],
   "source": [
    "# imports\n",
    "import numpy as np"
   ]
  },
  {
   "attachments": {},
   "cell_type": "markdown",
   "metadata": {},
   "source": [
    "## Functions"
   ]
  },
  {
   "cell_type": "code",
   "execution_count": 3,
   "metadata": {},
   "outputs": [],
   "source": [
    "def f(x,c):\n",
    "    return c[0]*x[:,4] + c[1]*np.sin(x[:,2]*x[:,3]) + c[2]*np.cos(x[:,0]*x[:,1])\n",
    "\n",
    "def df_c(x,c):\n",
    "    return np.array([x[:,4],np.sin(x[:,2]*x[:,3]),np.cos(x[:,0]*x[:,1])]).T\n",
    "\n",
    "def loss(x,c,y):\n",
    "    return np.sum((f(x,c)-y)**2)"
   ]
  },
  {
   "attachments": {},
   "cell_type": "markdown",
   "metadata": {},
   "source": [
    "## Loading data and initializing variables"
   ]
  },
  {
   "cell_type": "code",
   "execution_count": 4,
   "metadata": {},
   "outputs": [],
   "source": [
    "data = np.loadtxt('Data.csv',delimiter=',',skiprows=1)\n",
    "x = data[:,:5]\n",
    "y = data[:,5]\n",
    "\n",
    "# Initialize c\n",
    "c = np.array([2123,4212,5123])\n",
    "epsilon = 1"
   ]
  },
  {
   "attachments": {},
   "cell_type": "markdown",
   "metadata": {},
   "source": [
    "## Gauss Newton Algorithm"
   ]
  },
  {
   "cell_type": "code",
   "execution_count": 5,
   "metadata": {},
   "outputs": [
    {
     "name": "stdout",
     "output_type": "stream",
     "text": [
      "the coeefficients are:  [2.00550279 3.00436225 3.98830752]\n"
     ]
    }
   ],
   "source": [
    "# Gauss-Newton Algorithm\n",
    "while loss(x,c,y)>epsilon:\n",
    "    c = c - np.linalg.inv(df_c(x,c).T@df_c(x,c))@df_c(x,c).T@(f(x,c)-y)\n",
    "    \n",
    "print(\"the coeefficients are: \",c)"
   ]
  }
 ],
 "metadata": {
  "kernelspec": {
   "display_name": "cvxpy_env",
   "language": "python",
   "name": "python3"
  },
  "language_info": {
   "codemirror_mode": {
    "name": "ipython",
    "version": 3
   },
   "file_extension": ".py",
   "mimetype": "text/x-python",
   "name": "python",
   "nbconvert_exporter": "python",
   "pygments_lexer": "ipython3",
   "version": "3.10.6"
  },
  "orig_nbformat": 4
 },
 "nbformat": 4,
 "nbformat_minor": 2
}
