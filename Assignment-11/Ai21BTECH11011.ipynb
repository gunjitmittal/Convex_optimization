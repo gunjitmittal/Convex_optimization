{
 "cells": [
  {
   "attachments": {},
   "cell_type": "markdown",
   "metadata": {},
   "source": [
    "# Assignment-11 Gunjit Mittal\n",
    "# AI21BTECH11011"
   ]
  },
  {
   "cell_type": "code",
   "execution_count": 95,
   "metadata": {},
   "outputs": [],
   "source": [
    "# Importss\n",
    "import numpy as np"
   ]
  },
  {
   "attachments": {},
   "cell_type": "markdown",
   "metadata": {},
   "source": [
    "## Functions"
   ]
  },
  {
   "cell_type": "code",
   "execution_count": 96,
   "metadata": {},
   "outputs": [],
   "source": [
    "def f(x,c):\n",
    "    return c[0]*x[:,4] + c[1]*np.sin(x[:,2]*x[:,3]) + c[2]*np.cos(x[:,0]*x[:,1])\n",
    "\n",
    "def df_c(x,c,y):\n",
    "    return (f(x,c)-y).reshape(101,1) * np.array([x[:,4],np.sin(x[:,2]*x[:,3]),np.cos(x[:,0]*x[:,1])]).T\n",
    "\n",
    "def loss(x,c,y):\n",
    "    return np.linalg.norm((f(x,c)-y))"
   ]
  },
  {
   "attachments": {},
   "cell_type": "markdown",
   "metadata": {},
   "source": [
    "## Loading data and initializing variables"
   ]
  },
  {
   "cell_type": "code",
   "execution_count": 97,
   "metadata": {},
   "outputs": [],
   "source": [
    "data = np.loadtxt('Data.csv',delimiter=',',skiprows=1)\n",
    "x = data[:,:5]\n",
    "y = data[:,5]\n",
    "\n",
    "# Initialize c\n",
    "c = np.array([1,2,3])\n",
    "epsilon = 0.7"
   ]
  },
  {
   "cell_type": "code",
   "execution_count": 98,
   "metadata": {},
   "outputs": [
    {
     "name": "stdout",
     "output_type": "stream",
     "text": [
      "9.17159940998242\n",
      "6.026626971695251\n",
      "4.121283560744857\n",
      "2.8964898636378518\n",
      "2.0784332978572655\n",
      "1.5225189446214162\n",
      "1.1450112788324804\n",
      "0.892931676178744\n",
      "0.7298133411031539\n",
      "0.6285657492703708\n",
      "0.5683838183881957\n",
      "0.5338684014508993\n",
      "0.5145311988890462\n",
      "0.5038204502882324\n",
      "0.4979018846847947\n"
     ]
    }
   ],
   "source": [
    "step_size = 0.5\n",
    "while np.linalg.norm(df_c(x,c,y)) > epsilon:\n",
    "    c = c - step_size*np.mean(df_c(x,c,y),axis=0)\n",
    "    print(loss(x,c,y))\n",
    "    # print(np.linalg.norm(df_c(x,c,y)))"
   ]
  }
 ],
 "metadata": {
  "kernelspec": {
   "display_name": "Python 3",
   "language": "python",
   "name": "python3"
  },
  "language_info": {
   "codemirror_mode": {
    "name": "ipython",
    "version": 3
   },
   "file_extension": ".py",
   "mimetype": "text/x-python",
   "name": "python",
   "nbconvert_exporter": "python",
   "pygments_lexer": "ipython3",
   "version": "3.10.6"
  },
  "orig_nbformat": 4
 },
 "nbformat": 4,
 "nbformat_minor": 2
}
