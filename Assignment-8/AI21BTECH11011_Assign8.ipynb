{
 "cells": [
  {
   "attachments": {},
   "cell_type": "markdown",
   "metadata": {},
   "source": [
    "# Convex Optimization Assignment-8 \n",
    "# Gunjit Mittal AI21BTECH11011\n"
   ]
  },
  {
   "attachments": {},
   "cell_type": "markdown",
   "metadata": {},
   "source": [
    "## Imports"
   ]
  },
  {
   "cell_type": "code",
   "execution_count": 25,
   "metadata": {},
   "outputs": [],
   "source": [
    "import numpy as np"
   ]
  },
  {
   "attachments": {},
   "cell_type": "markdown",
   "metadata": {},
   "source": [
    "## Function 1"
   ]
  },
  {
   "attachments": {},
   "cell_type": "markdown",
   "metadata": {},
   "source": [
    "### Defining the function and its gradients"
   ]
  },
  {
   "cell_type": "code",
   "execution_count": 26,
   "metadata": {},
   "outputs": [],
   "source": [
    "def f(x): # Function to be minimized\n",
    "    return np.array((1-x[0])**2 + 100*(x[1]-x[0])**2)\n",
    "\n",
    "def grad_f(x): # Gradient of the function\n",
    "    return np.array([2*(x[0]-1)-200*(x[1]-x[0]),200*(x[1]-x[0])])\n",
    "\n",
    "def hess_f(x): # Hessian of the function\n",
    "    return np.array([[202,-200],[-200,200]])"
   ]
  },
  {
   "cell_type": "code",
   "execution_count": 27,
   "metadata": {},
   "outputs": [
    {
     "data": {
      "text/plain": [
       "array([[0.5  , 0.5  ],\n",
       "       [0.5  , 0.505]])"
      ]
     },
     "execution_count": 27,
     "metadata": {},
     "output_type": "execute_result"
    }
   ],
   "source": [
    "np.linalg.inv(hess_f([1,1]))"
   ]
  },
  {
   "attachments": {},
   "cell_type": "markdown",
   "metadata": {},
   "source": [
    "### Initialization"
   ]
  },
  {
   "cell_type": "code",
   "execution_count": 28,
   "metadata": {},
   "outputs": [],
   "source": [
    "x = [12,421] # Initial guess\n",
    "epsilon = 1e-6 # Tolerance"
   ]
  },
  {
   "attachments": {},
   "cell_type": "markdown",
   "metadata": {},
   "source": [
    "### Running the newton's method"
   ]
  },
  {
   "cell_type": "code",
   "execution_count": 29,
   "metadata": {},
   "outputs": [
    {
     "name": "stdout",
     "output_type": "stream",
     "text": [
      "[1. 1.]\n"
     ]
    }
   ],
   "source": [
    "# Apply Newton's method to find the minimum\n",
    "while(np.linalg.norm(grad_f(x))>epsilon):\n",
    "    x = x - np.linalg.inv(hess_f(x))@grad_f(x)\n",
    "print(x)"
   ]
  },
  {
   "attachments": {},
   "cell_type": "markdown",
   "metadata": {},
   "source": [
    "## Function 2"
   ]
  },
  {
   "attachments": {},
   "cell_type": "markdown",
   "metadata": {},
   "source": [
    "### Defining the function and its gradients"
   ]
  },
  {
   "cell_type": "code",
   "execution_count": 30,
   "metadata": {},
   "outputs": [],
   "source": [
    "def f_1(x): # Function to be minimized\n",
    "    return np.array([(x[0]-1)**2 + 2*(2*x[1]**2-x[0])**2 + 3*(2*x[2]**2-x[1])**2])\n",
    "\n",
    "def grad_f_1(x): # Gradient of the function\n",
    "    return np.array([2*(x[0]-1)-4*(2*x[1]**2-x[0]),16*x[1]*(2*x[1]**2-x[0])-6*(2*x[2]**2-x[1]),24*x[2]*(2*x[2]**2-x[1])])\n",
    "\n",
    "def hess_f_1(x): # Hessian of the function\n",
    "    return np.array([[6,-16*x[1],0],[-16*x[1],96*x[1]**2-16*x[1]+6,-24*x[2]],[0,-24*x[2],24*(6*x[2]**2-x[1])]])"
   ]
  },
  {
   "attachments": {},
   "cell_type": "markdown",
   "metadata": {},
   "source": [
    "### Initialization"
   ]
  },
  {
   "cell_type": "code",
   "execution_count": 39,
   "metadata": {},
   "outputs": [],
   "source": [
    "x = [12,41,123] # Initial guess\n",
    "epsilon = 1e-6 # Tolerance"
   ]
  },
  {
   "attachments": {},
   "cell_type": "markdown",
   "metadata": {},
   "source": [
    "### Running the newton's method"
   ]
  },
  {
   "cell_type": "code",
   "execution_count": 40,
   "metadata": {},
   "outputs": [
    {
     "name": "stdout",
     "output_type": "stream",
     "text": [
      "[2761646388]\n",
      "[1.0000001  0.70710683 0.59460358]\n",
      "[1.40431421e-14]\n"
     ]
    }
   ],
   "source": [
    "# Applying newton's method to find the minimum\n",
    "while(np.linalg.norm(grad_f_1(x))>epsilon):\n",
    "    x = x - np.linalg.inv(hess_f_1(x))@grad_f_1(x)\n",
    "print(x)"
   ]
  }
 ],
 "metadata": {
  "kernelspec": {
   "display_name": "torch",
   "language": "python",
   "name": "torch"
  },
  "language_info": {
   "codemirror_mode": {
    "name": "ipython",
    "version": 3
   },
   "file_extension": ".py",
   "mimetype": "text/x-python",
   "name": "python",
   "nbconvert_exporter": "python",
   "pygments_lexer": "ipython3",
   "version": "3.10.6"
  },
  "orig_nbformat": 4
 },
 "nbformat": 4,
 "nbformat_minor": 2
}
